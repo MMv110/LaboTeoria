{
  "nbformat": 4,
  "nbformat_minor": 0,
  "metadata": {
    "colab": {
      "provenance": [],
      "mount_file_id": "1O7_VslA7CP3f1tAux1XMdz9IjPs44zHh",
      "authorship_tag": "ABX9TyOslGASwYCcZV2BTmDNbIjA",
      "include_colab_link": true
    },
    "kernelspec": {
      "name": "python3",
      "display_name": "Python 3"
    },
    "language_info": {
      "name": "python"
    }
  },
  "cells": [
    {
      "cell_type": "markdown",
      "metadata": {
        "id": "view-in-github",
        "colab_type": "text"
      },
      "source": [
        "<a href=\"https://colab.research.google.com/github/MMv110/LaboTeoria/blob/main/SPAM.ipynb\" target=\"_parent\"><img src=\"https://colab.research.google.com/assets/colab-badge.svg\" alt=\"Open In Colab\"/></a>"
      ]
    },
    {
      "cell_type": "code",
      "execution_count": 1,
      "metadata": {
        "id": "aQ62lt2aTZD_",
        "colab": {
          "base_uri": "https://localhost:8080/"
        },
        "outputId": "db877b6e-2b9e-4c36-e1e0-46b391d62e2e"
      },
      "outputs": [
        {
          "output_type": "stream",
          "name": "stdout",
          "text": [
            "(['urgent', '!', 'call', '09061749602', 'from', 'landline', '.', 'your', 'complimentary', '4', '*', 'tenerife', 'holiday', 'or', '£10,000', 'cash', 'await', 'collection', 'sae', 't', '&', 'cs', 'box', '528', 'hp20', '1yf', '150ppm', '18+'], ['+449071512431', 'urgent', '!', 'this', 'is', 'the', '2nd', 'attempt', 'to', 'contact', 'u', '!', 'u', 'have', 'won', '£1250', 'call', '09071512433', 'b4', '050703', 't', '&', 'csbcm4235wc1n3xx', '.', 'callcost', '150ppm', 'mobilesvary', '.', 'max£7', '.', '50'])\n",
            "(1, 1)\n"
          ]
        }
      ],
      "source": [
        "import nltk\n",
        "from pprint import pprint\n",
        "import re\n",
        "from bs4 import BeautifulSoup\n",
        "import numpy as np\n",
        "\n",
        "#Leer el corpus\n",
        "data = open(\"/content/drive/MyDrive/Lingüística computacional/SMS_Spam_Corpus_big.txt\", encoding=\"ISO-8859-1\")\n",
        "\n",
        "# Separa los datos en X e y\n",
        "(y, X) = zip(*[(1 if nltk.word_tokenize(text.lower())[-1] == \"spam\" else 0, nltk.word_tokenize(text.lower())[:-2]) for text in data])\n",
        "\n",
        "print(X[0:2])\n",
        "print(y[0:2])\n"
      ]
    },
    {
      "cell_type": "code",
      "source": [
        "from sklearn.model_selection import train_test_split\n",
        "\n",
        "x_train, x_test, y_train, y_test = train_test_split(X, y, test_size=0.2, random_state=42)\n",
        "\n",
        "y_train = np.transpose(np.expand_dims(y_train,1))\n",
        "y_test = np.transpose(np.expand_dims(y_test,1))"
      ],
      "metadata": {
        "id": "Ox-2ZONjyv9N"
      },
      "execution_count": 2,
      "outputs": []
    },
    {
      "cell_type": "code",
      "source": [
        "# Crea un conjunto vacío para almacenar el vocabulario\n",
        "vocabulary = set()\n",
        "\n",
        "# Itera sobre los arreglos y agrega cada palabra al conjunto del vocabulario\n",
        "for array in X:\n",
        "    for word in array:\n",
        "        vocabulary.add(word)\n",
        "\n",
        "vocabulary = sorted(vocabulary)\n",
        "\n",
        "# Imprime el vocabulario\n",
        "print(vocabulary)"
      ],
      "metadata": {
        "colab": {
          "base_uri": "https://localhost:8080/"
        },
        "id": "8bhQPfpTzhmw",
        "outputId": "6dc9cb89-2471-4e1e-917e-72df6a3df888"
      },
      "execution_count": 3,
      "outputs": [
        {
          "output_type": "stream",
          "name": "stdout",
          "text": [
            "['!', '#', '$', '%', '&', \"'\", \"''\", \"'help\", \"'ll\", \"'m\", \"'re\", \"'s\", \"'ve\", '(', ')', '*', '+', '+123', '+447797706009', '+449071512431', '+cheer', '+get', '+std', '+£400', ',', '-', '-call', '-message', '-no', '-sub', '.', '..', '...', '....', '.....', '.terry', '//careers', '//www.urawinner.com', '/colour', '0', '008704050406', '0121', '01223585334', '0125698789', '02', '02/06/03', '02/09/03', '02072069400.', '02073162414', '021', '050703', '0578', '07090201529', '07123456789', '07732584351', '07734396839', '07742676969', '0776xxxxxxx', '07786200117', '077xxx', '07801543489', '07821230901', '0789xxxxxxx', '07946746291/07880867867', '07xxxxxxxxx', '0800', '08000407165', '08000839402', '08000930705', '08000930705.', '08000938767', '08001950382', '08002986030', '08002986906', '08006344447', '0808', '08081263000', '08081560665', '0825', '0844', '0845', '08452810073', '08452810075over18', '0870', '08701237397', '08701417012', '08701417012150p', '0870141701216+', '0870241182716', '08702840625.comuk', '08707500020', '08707509020', '0870753331018+', '08708800282', '0871-872-9755', '087104711148', '08712101358', '08712103738', '08712300220', '087123002209am-7pm', '08712402050', '08712402578', '08712402779', '08712402972', '08712405022', '0871277810810', '0871277810910p/min', '087147123779am-7pm', '08714712379', '08714712388', '08714714011', '08715705022', '0871750.77.11', '08717507382', '08717898035', '08718720201', '08718725756', '087187262701.50gbp/mtmsg18', '08718726970', '08718726971', '08718726978', '087187272008', '08718727868.', '08719180248', '08719181259', '08719181513.', '09041940223', '09050000301.', '09050000460', '09050000555.', '09050000878.', '09050000928.', '09050001295', '09050001808', '09050002311', '09050003091', '09050005321.', '09050090044', '09053750005', '09058091854', '09058094597', '09058095107', '09058097189', '09058097218', '09058098002.', '09058099801', '09061104276', '09061104283', '09061209465', '09061221061', '09061221066', '09061701444.', '09061701461.', '09061701851.', '09061701939.', '09061702893', '09061702893.', '09061743386', '09061743806', '09061743810', '09061744553', '09061749602', '09061790121', '09061790125', '09063440451', '09063458130', '0906346330.', '09064011000.', '09064012103', '09064012160.', '09064015307', '09064017295', '09064017305', '09064019014', '09064019788', '09065174042.', '09065394973', '09065989182.', '09066350750', '09066358152', '09066358361', '09066361921', '09066362206', '09066362220', '09066362231', '09066364311', '09066364589', '09066368327', '09066368470', '09066368753', '09066380611', '09066382422', '09066612661', '09066649731from', '09066660100', '09071512432', '09071512433', '09071517866', '09090900040', '09094646899', '09111030116.', '09701213186', '1', '1,000', '1,2', '1.', '1.50', '1/2', '10', '10,000', '10/06/03', '100', '1000', '1000s', '1013', '1030', '10:10', '10:30', '10am-7pm', '10am-9pm', '10k', '10p', '10p/min', '10ppm', '10th', '11', '1120', '113', '1131', '114/14', '116', '118p/msg', '11mths', '11mths+', '12', '12,000pes', '1205', '121', '1225', '125gift', '128', '12hours', '12hrs', '12mths', '13/4/04', '130.', '1327', '140', '1405', '140ppm', '145', '150', '150p', '150p.', '150p/day', '150p/meg', '150p/min', '150p/msg', '150p/msg.', '150p/msgrcvdhg/suite342/2lands/row/w1j6hl', '150p/mt', '150p/mtmsg', '150p/mtmsgrcvd18', '150p/mtmsgrcvd18+', '150p/tone', '150pm', '150ppermesssubscription', '150ppm', '150ppmpobox10183bhamb64xe', '150ppmsg', '15541', '16', '16+', '16+only', '1680', '169', '18', '18+', '18+6', '18+only', '180', '1843.', '18p/txt', '18yrs', '1956669', '1da', '1im', '1pm', '1st', '1winaweek', '1winawk', '1x150p/wk', '1yf', '2', '2,000', '2.', '2.50', '20', '20,000', '200', '2000', '2004', '2005.', '2025050', '20p', '20p/min', '21', '21/f', '21st', '22', '220-cm2', '2309.', '24', '24/7mp', '25', '25/f', '250', '255.', '25p', '26.03.05', '26th', '27/6/03', '28', '28/5', '28days', '28thfeb.t', '29/03/05', '2b', '2c', '2day', '2docd.please', '2end', '2ez', '2find', '2getha', '2geva', '2go', '2hook', '2i', '2moro', '2morow', '2morro', '2morrow', '2morrowxxxx', '2mrw', '2mwen', '2nd', '2nhite', '2nights', '2nite', '2nite-tell', '2optout', '2px', '2stoptxt', '2u', '2watershd', '2wks', '2yr', '3', '30', '300', '3000', '300603', '300603t', '300p', '3030', '3030.', '30apr', '30pp/txt', '30th', '31', '3100', '310303.', '3230', '326', '330.', '350', '3510i', '3650', '36504', '3680.offer', '373', '3aj', '3g', '3gbp', '3lp', '3mins', '3qxj9', '3uz', '4', '4-6', '4-7/12', '4.47per', '4.50.', '400mins', '4041', '40gb', '420', '4217', '430', '434', '44', '4403ldnw1a7rw18', '447801259231', '449050000301', '45', '450ppw', '45239', '47', '4742', '4882', '4a', '4brekkie', '4d', '4eva', '4get', '4give', '4info', '4mths', '4my', '4t', '4thnov.behind', '4txt/120p', '4txt/ú1.20', '4u', '4u.i', '4ward', '5', '5.00', '5.i\\x92m', '5/9/03', '50', '500', '5000', '505060', '50p', '515', '5226', '5249', '526', '528', '530', '542', '545', '5free', '5ish.', '5k', '5p', '5pm', '5wb', '5we', '5wkg', '5wq', '6', '6.', '6031', '60p', '60p/min', '61200', '62468', '62735=£450', '630', '645', '650.', '67441233', '69101.', '69669', '69696', '69866.18', '69876.', '6days', '6hl', '6months', '6wu', '6zf', '7', '700', '7250', '7250i', '730.', '74355', '750', '7548', '7634', '7684', '7732584351', '786', '7876150ppm', '7:30', '7am', '8', '800', '8007', '80082', '80182', '80488', '80488.', '80488.biz', '80608.', '8077', '80878.', '81010', '81151', '81618-', '82277', '82277.unsub', '82468', '83039', '83049.', '83110', '83118', '83222', '83222.', '83332.please', '83355', '83600', '84', '84025', '84199', '84199.', '85', '85.', '850.', '85023', '85069', '85222', '8552', '86021', '861', '864233', '86688', '87021', '87066', '87077', '87121', '87575', '87575.', '88039.', '88039.skilgme.tscs087147403231winawk', '88088', '88222', '88600', '8883', '88888', '89080', '89545', '89555', '89555.', '89693', '8am', '8wp', '9', '9.', '900', '92h', '930', '930.', '945+', '95/pax', '97n7qp', '98321561', '9ae', '9am', '9am-11pm', ':', ';', '<', '=', '>', '?', '@', '[', ']', '^', '``', 'a', 'a-', 'a21', 'ab', 'abel', 'able', 'about', 'aboutas', 'abt', 'abta', 'access', 'accidentally', 'accommodationvouchers', 'accordin', 'accordingly', 'account', 'acid', 'acl03530150pm', 'aco', 'act', 'action', 'activate', 'active', 'actually', 'ad', 'adam', 'add', 'addamsfa', 'added', 'address', 'admin', 'admirer', 'adress', 'adrink', 'ads', 'adult', 'advance', 'advise', 'afew', 'affair', 'affairs', 'aft', 'after', 'afternoon', 'ag', 'again', 'again.', 'age', 'age16', 'age16+£1.50perwksub', 'age16.150ppermesssubscription', 'age23', 'ages', 'ago', 'ago.cusoon', 'ah', 'ah.now', 'ah.the', 'aint', 'air1', 'airport', 'aiya', 'aiyah', 'aiyar', 'aiyo', 'al', 'album-quite', 'aletter', 'alfie', 'algarve', 'algebra', 'algorithms', 'all', 'allday', 'almost', 'alone', 'along', 'already', 'already.', 'alright', 'alrite', 'alrite.have', 'also', 'also.', 'alter', 'although', 'always', 'am', 'am.x', 'amazing', 'american', 'amk', 'amnow', 'among', 'amore', 'amrca', 'ams', 'amy', 'an', 'anal', 'and', 'angry', 'annie', 'announcement', 'anot', 'another', 'ans', 'ansr', 'answer', 'antelope', 'any', 'anymore', 'anyone', 'anythin', 'anything', 'anythingtomorrow', 'anytime', 'anyway', 'anyway.', 'aphex\\x92s', 'app', 'apply', 'apply.', 'approx', 'april', 'ar', 'ar.', 'arab', 'arcade', 'archive', 'ard', 'are', 'area', 'arestaurant', 'aretaking', 'arguments', 'arnt', 'around', 'arranging', 'arrival', 'arrive', 'arts', 'arty', 'as', 'asap', 'asian', 'ask', 'asked', 'askin', 'asking', 'asleep', 'aspects', 'ass', 'asthere', 'asusual', 'at', 'ate', 'athome', 'attach', 'attached', 'attempt', 'attend', 'attending', 'auction', 'august', 'auntie', 'aust', 'ava', 'available', 'ave', 'avent', 'await', 'awaiting', 'awake', 'award', 'award.', 'awarded', 'away', 'awkward', 'aww', 'awww', 'ay', 'a£50', 'b', 'b4', 'b4190604', 'b4280703', 'ba', 'ba128nnfwfly150ppm', 'babe', 'babe.sozi', 'babes', 'baby', 'babyjontet', 'babysit', 'back', 'backwards', 'bad', 'bag', 'bahamas', 'baig', 'bak', 'bang', 'bank', 'banned', 'banneduk', 'bao', 'bar', 'barmed', 'basic', 'basq', 'bath', 'bath.', 'bathe', 'bathing', 'batt', 'bcm1896wc1n3xx', 'bcm4284', 'bday', 'be', 'beach', 'beautiful', 'beauty', 'because', 'becausethey', 'become', 'bed', 'bedbut', 'bedreal', 'bedrm', 'bedrm-', 'bedroom', 'beehoon', 'been', 'beendropping', 'before', 'begin', 'behind', 'being', 'believe', 'believe.', 'bell', 'bellearlier', 'ben', 'best', 'bet', 'beta', 'better', 'bettersn', 'between', 'beverage', 'bf', 'bian', 'biatch', 'big', 'bigger', 'biggest', 'bill', 'billed', 'bin', 'bird', 'birthday', 'bishan', 'bit', 'bitch', 'bk', 'black', 'blacko', 'blah', 'blank', 'bloke', 'blokes', 'blonde', 'bloody', 'bloomberg', 'bloomberg.com', 'blow', 'blowing', 'blu', 'blue', 'bluetooth', 'bluff', 'blur', 'boatin', 'boggy', 'bollox', 'bonus', 'boo', 'book', 'booked', 'booking', 'bookmark', 'books', 'bored', 'borin', 'boring', 'boring.', 'born.please', 'borrow', 'bot', 'both', 'bother', 'bought', 'bought\\x94braindance\\x94a', 'bout', 'box', 'box177', 'box245c2150pm', 'box326', 'box334', 'box334sk38ch', 'box385', 'box39822', 'box420', 'box42wr29c', 'box95qu', 'box97n7qp', 'boy', 'boyf', 'boyfriend', 'brand', 'bray', 'break', 'breakfast', 'breakin', 'breaks', 'brief', 'brin', 'bring', 'brings', 'bristol', 'british', 'britney', 'bro', 'broke', 'broken', 'brolly', 'brought', 'brownie', 'browser', 'bt', 'bt-national', 'bt-national-rate', 'bt-national-rate.', 'bthere', 'btw', 'buddy', 'buddys', 'buffet', 'bugis', 'bugis.', 'building', 'bulbs', 'burns', 'bus', 'bus8,22,65,61,66,382', 'buses', 'busy', 'but', 'buttheres', 'buy', 'buy.', 'buying', 'buz', 'bx', 'bx420', 'bx420-ip4-5we', 'by', 'byatch', 'by\\x94leafcutter', 'b\\x92day', 'c', 'c-in', 'c52', 'ca', 'cafe', 'cake', 'cal', 'call', 'call.', 'call09050000327', 'call2optout/', 'call2optout/674', 'call2optout/f4q=', 'call2optout/lf56', 'call2optout/n9dx', 'call2optout=j5q', 'callback', 'callcost', 'called', 'caller', 'callfreefone', 'callin', 'calling', 'calls', 'calm', 'cam', 'camcorder', 'came', 'camera', 'camp', 'can', 'cancel', 'cancelled', 'canlove', 'cant', 'cantdo', 'canteen', 'can\\x92t', 'capacity', 'car', 'card', 'cardin', 'cards', 'care', 'careabout', 'careful', 'carry', 'case', 'cash', 'cash-balance', 'cash-in', 'cashto', 'catch', 'catching', 'caught', 'cause', 'cc', 'cd', 'cdgt', 'cds', 'celeb', 'celebrate', 'center', 'centre', 'cer', 'ceri', 'cha', 'chance', 'chances', 'change', 'changes', 'charge', 'charged', 'charges', 'charity', 'charity.', 'charming', 'chart', 'chat', 'cheap', 'check', 'checkin', 'checking', 'cheered', 'cheers', 'chicken', 'children', 'chillin', 'china', 'china.', 'chinatown', 'chinese', 'chiong', 'chit-chat', 'choice', 'choose', 'chosen', 'christmas', 'chuck', 'cine', 'cinema', 'city', 'citylink', 'claim', 'claimcode', 'claims', 'clash', 'classic', 'claypot', 'clean', 'cleaning', 'clearer', 'clever', 'click', 'close', 'closes', 'closingdate04/09/02', 'club', 'clubsaisai', 'cm', 'co', 'coast', 'code', 'coffee', 'colin', 'collages', 'collect', 'collected', 'collecting', 'collecting.', 'collection', 'college', 'colour', 'colour=red', 'colours', 'combine', 'come', 'comes', 'comin', 'coming', 'coming.', 'comingdown', 'common', 'comp', 'comp.ofstuff', 'compare', 'competition', 'complacent', 'complementary', 'completely', 'complimentary', 'computational', 'computer', 'computers', 'conacted', 'concentrate', 'concentrating', 'concert', 'conclusion', 'conditions', 'configure', 'confirm', 'confirmed', 'confused', 'congrats', 'congratulations', 'connect', 'connected', 'cons', 'considering', 'console', 'contact', 'contacted', 'contention', 'contents', 'contract', 'cool', 'copied', 'copy', 'cornwall', 'correctly', 'cos', 'cost', 'costa', 'costing', 'costs', 'costume', 'cost£1.50/pm', 'cost£3.75max', 'could', 'couldn\\x92t', 'countinlots', 'country', 'course', 'cousin', 'cover', 'covers', 'coz', 'cr01327bt', 'cr9', 'crap', 'crazy', 'cream', 'creative', 'credit', 'credits', 'cres', 'crisis', 'cross', 'croydon', 'cruise', 'cruisin', 'cs', 'cs/stop', 'csbcm4235wc1n3xx', 'csbcm4235wc1n3xx.callcost150ppmmobilesvary', 'csh11', 'cthen', 'ctxt', 'cu', 'cud', 'culdnt', 'cultures', 'cum', 'cup', 'cupboard', 'currently', 'cust', 'custcare', 'custcare:08718720201', 'customer', 'customer.', 'customers', 'cut', 'cutting', 'cuz', 'cw25wx', 'cya', 'd', 'd=', 'da', 'dabooks', 'dad', 'daddy', 'dads', 'daily', 'dammit', 'damn', 'dancce', 'dao', 'dark', 'darker', 'darlin', 'darling', 'darren', 'das', 'dat', 'date', 'datebox1282essexcm61xn', 'dating', 'dave', 'day', 'days', 'days.', 'days.èn', 'de', 'dead', 'deal', 'dear', 'december', 'decide', 'decided', 'deciding', 'decision', 'deduct', 'deer', 'def', 'definitely', 'defo', 'del', 'deleted', 'delivered', 'deliveredtomorrow', 'delivery', 'den', 'dent', 'dentist.', 'depends', 'deposit', 'dept', 'description', 'deserve', 'dessert', 'details', 'develop', 'deviousbitch.anyway', 'di', 'dial', 'did', 'didnt', 'didntgive', 'didn\\x92t', 'die', 'diff', 'digital', 'din', 'dinero', 'ding', 'dinner', 'dinner.', 'direct', 'directly', 'dirty', 'dis', 'disaster', 'discount', 'discreet', 'discuss', 'discussed', 'distance', 'distract', 'disturb', 'dizzee', 'dload', 'do', 'do.interested', 'docks', 'doctor', 'does', 'doesdiscount', 'doesn\\x92t', 'dog', 'dogbreath', 'doggin', 'dogging', 'dogs', 'doin', 'doinat', 'doing', 'domain', 'donate', 'done', 'done.', 'dont', 'dontignore', 'dontplease', 'donyt', 'don\\x92t', 'door', 'dosomething', 'dot', 'double', 'down', 'download', 'downon', 'dracula', 'draw', 'dreading', 'dream', 'dreams', 'dreamz', 'dresser', 'drink', 'drinks', 'drivby-:0quit', 'drive', 'driver', 'drivin', 'driving', 'drizzling', 'drop', 'drove', 'drum', 'drunk', 'duchess', 'dumb', 'dun', 'dunno', 'dvd', 'e', 'e=', 'each', 'eachother', 'earlier', 'early', 'east', 'eastenders', 'easter', 'easy', 'eat', 'eaten', 'eatin', 'eating', 'ec2a', 'edition', 'edrunk', 'eerie', 'effect', 'efficient', 'eg', 'eh', 'eire', 'either', 'elaborating', 'elaine', 'elephant', 'ello', 'else', 'elsewhere', 'em', 'email', 'emailed', 'embarrassed', 'empty', 'end', 'end.', 'ended', 'ending', 'endof', 'ends', 'energy', 'eng', 'engin', 'england', 'english', 'enjoy', 'enjoyin', 'enough', 'enter', 'entered', 'entertain', 'entitled', 'entry', 'entry41', 'enufcredeit', 'enuff', 'envelope', 'er', 'ericsson', 'error.', 'esaplanade', 'escalator', 'eshxxxxxxxxxxx', 'esplanade', 'etc', 'euro', 'euro2004', 'eurodisinc', 'europe', 'evaluation', 'eve', 'even', 'evening', 'ever', 'every', 'every1', 'everyboy', 'everythin', 'everything', 'everywhere', 'evil', 'evry1', 'ex', 'exactly', 'exam', 'exams', 'excellent', 'except', 'exciting', 'excuse', 'exeter', 'exhibition', 'exorcist', 'exp', 'expect', 'expected', 'expires', 'explain', 'explicit', 'explosive', 'extra', 'extreme', 'ey', 'eye', 'f', 'f=', 'fa', 'faber', 'face', 'failed', 'fall', 'falls', 'familiar', 'family', 'fan', 'fancies', 'fancy', 'fans', 'fantasies', 'fantastic', 'fantasy', 'far', 'farm', 'farrell', 'farting', 'fassyole', 'fast', 'faster', 'fat', 'father', 'fats', 'fault', 'fave', 'favorite', 'fed', 'feel', 'feelin', 'feeling', 'feelingood', 'feellikw', 'fell', 'felt', 'feng', 'fetch', 'fetching', 'few', 'fieldof', 'fights', 'figures', 'files', 'film', 'final', 'finally', 'find', 'fine', 'finish', 'finished', 'finishes', 'finishing', 'first', 'fishhead', 'fit', 'fixed', 'fixedline', 'flag', 'flies', 'flight', 'flights', 'flirt', 'flower', 'flowers', 'flung', 'fm', 'fml', 'foley', 'follow', 'following', 'fone', 'foned', 'fonin', 'food', 'football', 'for', 'forever', 'forfeit', 'forgot', 'formal', 'formatting', 'forum', 'forward', 'found', 'foundurself', 'fr', 'fran', 'franxx', 'franyxxxxx', 'freak', 'free', 'free-message', 'free-send', 'free2day', 'freeentry', 'freefone', 'freek', 'freephone', 'fren', 'frens', 'fri', 'friend', 'friends', 'friendsare', 'fringe', 'frm', 'frmcloud', 'frnd', 'frog', 'from', 'fromm', 'fromwrk', 'fuck', 'fucked', 'fucking', 'fuckinnice', 'fucks', 'fujitsu', 'full', 'fun', 'fund', 'funk', 'funny', 'fusion', 'future', 'g', 'g.b', 'g.w.r', 'g2', 'g696ga', 'gail', 'gailxx', 'gal', 'gals', 'game', 'games', 'gamestar', 'gang', 'garden', 'gave', 'gaytextbuddy.com', 'gbp/week', 'gbp1.50/week', 'gd', 'gd.', 'ge', 'gee', 'gek1510', 'gent', 'genuine', 'george', 'ger', 'germany', 'get', 'getstop', 'gettin', 'getting', 'gf', 'ghost', 'gift', 'gift.', 'gimmi', 'girl', 'girlie', 'girls', 'giv', 'give', 'given', 'giving', 'glass', 'gloucesterroad', 'gmw', 'go', 'go.', 'go2', 'goals', 'goals/team', 'god', 'goes', 'goigng', 'goin', 'going', 'gold', 'gon', 'gona', 'gone', 'gong', 'gonnamissu', 'good', 'goodmate', 'goodnite', 'goodtime', 'google', 'gorgeous', 'goss', 'gossip', 'got', 'got.', 'gota', 'gotany', 'gotmarried', 'goto', 'gower', 'gprs', 'gr8', 'gr8fun', 'gran', 'granite', 'great', 'grooved', 'group', 'grow.random', 'grumble', 'gua', 'guai', 'guaranteed', 'guess', 'guessed', 'guesses', 'guessing', 'guilty', 'guoyang', 'guy', 'guys', 'gym', 'h', 'ha', 'had', 'haf', 'haha', 'hai', 'hair', 'haiyoh', 'haiz', 'half', 'halloween', 'hamper', 'hamster', 'hand', 'handed', 'handing', 'handset', 'hanger', 'happen', 'happened', 'happy', 'hard', 'hardest', 'hardly', 'harry', 'has', 'hav', 'hav2hear', 'hava', 'havbeen', 'have', 'havebeen', 'haven', 'havent', 'havent.', 'haventcn', 'haven\\x92t', 'havin', 'having', 'he', 'healthy', 'hear', 'heard', 'heart', 'heavily', 'heavy', 'hee', 'hehe', 'helens', 'hello', 'hello-/', 'hellogorgeous', 'help', 'help08718728876', 'help:08700469649.', 'her', 'her.', 'here', 'heroes', 'herself', 'hes', 'hey', 'he\\x92s', 'hg/suite342/2lands', 'hg/suite342/2lands/row/w1j6hl', 'hi', 'hidden', 'high', 'hilarious-also', 'him', 'him.', 'himso', 'hint', 'hip', 'hiphop', 'his', 'history', 'hit', 'hiya', 'hl', 'hlday', 'hm', 'hmm', 'hmmm', 'hmv', 'hmv1', 'hol', 'holiday', 'hols', 'home', 'home.', 'home.wot', 'homeowners', 'hon', 'honey', 'honi', 'hop', 'hope', 'hopefully', 'hopeso', 'hopeu', 'hor', 'horny', 'horrible', 'horse', 'hospital', 'hostel', 'hot', 'hotel', 'hotels', 'hotmail.com', 'hotmix', 'hour', 'hours', 'house', 'house.', 'housewives', 'how', 'howdy', 'hows', 'howu', 'hp', 'hp20', 'hr', 'hrs', 'http', 'huai', 'huh', 'hui', 'huiming', 'humanities', 'hun', 'hun-onbus', 'hungry', 'hunny', 'hurt', 'hvae', 'hyde', 'hype', 'i', 'iam', 'ibh', 'ibhltd', 'ibiza', 'ibm', 'ice', 'icic', 'icky', 'id', 'identifier', 'idiot', 'if', 'iff', 'ifink', 'ig11', 'ihave', 'ijust', 'ikea', 'ikno', 'iknow', 'il', 'ileave', 'ill', 'illspeak', 'ilol', 'im', 'imat', 'imin', 'immediately', 'important', 'impossible', 'improve', 'improved', 'in', 'inc', 'include', 'including', 'inclusive', 'inconvenience', 'inconvenient', 'incredible', 'increments', 'indian', 'indians', 'individual', 'infernal', 'info', 'inform', 'information', 'informed', 'infra', 'ink', 'inmind', 'inperialmusic', 'insects', 'inside', 'inspection', 'instead', 'instructions', 'intelligent', 'intend', 'interested', 'interested.', 'interesting', 'interflora', 'interviw', 'into', 'intro', 'invaders', 'invited', 'inviting', 'ip4', 'ipod', 'irene.ere', 'iriver', 'irritating.', 'is', 'iscoming', 'isnt', 'isn\\x92t', 'issues', 'isv.important', 'it', 'it+both', 'italian', 'itcould', 'iter', 'ithink', 'itried2tell', 'its', 'itxt', 'it\\x92s', 'ive', 'iwana', 'iwas+marine', 'izzit', 'i\\x92d', 'i\\x92l', 'i\\x92llspeak', 'i\\x92m', 'i\\x92ve', 'j', 'j89', 'jacket', 'jackpot', 'jade', 'james', 'james.', 'jamster', 'jamster.co.uk', 'jan', 'jane', 'janx', 'jap', 'java', 'jaz', 'jazz', 'jealous', 'jeans', 'jen', 'jenny', 'jenxxx', 'jess', 'jet', 'jez', 'jia', 'jiayin', 'jiu', 'job', 'job.', 'jobyet', 'jod', 'jogging', 'john\\x94-sounds', 'join', 'joined', 'jokin', 'joking', 'jon', 'jontin', 'jordan', 'jorge-shock', 'jos', 'js', 'juan', 'july', 'june', 'jurong', 'jus', 'just', 'justthought', 'juswoke', 'juz', 'k', 'k.', 'k52', 'k61', 'kaiez', 'kane', 'karaoke', 'kate', 'katexxx', 'kay', 'kaypoh', 'kb', 'ke', 'keep', 'keep.', 'kent', 'kept', 'keris', 'keypad.', 'kg', 'kick', 'kickboxing', 'kickoff', 'king', 'kiosk', 'kiosk.valid', 'kip', 'kiss', 'kisses', 'kit', 'kl341', 'knackered', 'knew', 'knock', 'know', 'knows', 'korean', 'ktv', 'l', 'l8', 'l8r', 'l8tr', 'la', 'lab', 'ladies', 'lady', 'laid', 'lancaster', 'land', 'landline', 'landlines', 'lapdancer', 'laptop', 'lar', 'lar.', 'laready', 'largest', 'last', 'lastest', 'late', 'latelyxxx', 'later', 'later.', 'latest', 'latests', 'laugh', 'laughing', 'lavender', 'layin', 'lazy', 'lccltd', 'ldn', 'ldnw15h', 'le', 'lead', 'leanne.what', 'learn', 'least', 'leave', 'leaving', 'lect', 'lecture', 'lecturer', 'left', 'legal', 'leh', 'leh.', 'lei', 'lei.', 'lekdog', 'length', 'leona', 'les', 'lesson', 'lessons', 'let', 'lets', 'li', 'liao', 'liao.', 'lib', 'lib.', 'libertines', 'lido', 'lie', 'lifebook', 'lifetime', 'lift', 'light', 'like', 'liked', 'likely', 'likeyour', 'lil', 'lily', 'lim', 'line', 'linear', 'linerental', 'lines', 'lionm', 'lionp', 'lions', 'listen', 'listened2the', 'listening', 'listening2the', 'little', 'live', 'liverpool', 'lk', 'lmao', 'lo', 'loads', 'loan', 'local', 'location', 'locations', 'locaxx', 'lock', 'lodging', 'log', 'login', 'login=', 'logo', 'logo/pic', 'logon', 'logos+musicnews', 'londn', 'london', 'lonely', 'long', 'longer', 'look', 'looked', 'lookin', 'looking', 'looks', 'lor', 'lor.', 'lord', 'lose', 'lost', 'lost.', 'lot', 'lot.', 'lotr', 'lots', 'lotsof', 'lou', 'loud.', 'lousy', 'love', 'lovejen', 'lovely', 'loveme', 'lover', 'loyal', 'loyalty', 'lrg', 'ls1', 'ls15hb', 'lst', 'lt', 'ltd', 'ltd.', 'ltd.£1,50/mtmsgrcvd18+', 'lubly', 'luck', 'lucky', 'lucozade', 'lucozade.co.uk/wrc', 'lucyxx', 'lunch', 'lush', 'luton', 'luv', 'lux', 'lyricalladie', 'm', 'm100', 'm221bp', 'm26', 'm263uz', 'm39m51', 'm6', 'm8', 'm8s', 'm95', 'ma', 'macedonia', 'macs', 'mad1', 'mad2', 'made', 'maggi', 'mah', 'mah.', 'mail', 'mails', 'make', 'makes', 'making', 'mall', 'man', 'mandy', 'mango', 'manky', 'many', 'march', 'market', 'marley', 'married', 'match', 'matches', 'mate', 'mates', 'matric', 'matrix3', 'matthew', 'max10mins', 'maximize', 'max£7', 'may', 'mayb', 'maybe', 'mb', 'mb.', 'mc', 'mcfly-all', 'me', 'me.', 'meal', 'mean', 'means', 'meant', 'mecause', 'med', 'mee', 'meet', 'meet+greet', 'meet.', 'meetin', 'meeting', 'meeting.', 'meh', 'meh.', 'mei', 'meive', 'mel', 'melnite', 'member', 'members', 'membership', 'men', 'merememberin', 'merry', 'message', 'messages', 'messed', 'messy', 'mid', 'middle', 'midnight', 'might', 'mila', 'million', 'millions', 'min', 'min.', 'mind', 'mine', 'mins', 'mint', 'minus', 'minute', 'minutes', 'mirror', 'miss', 'missed', 'missin', 'missing', 'missy', 'mistake', 'mistake.u', 'mistakes', 'mite', 'miwa', 'mix', 'mk17', 'mmm', 'mnths', 'mo', 'moan', 'mob', 'mobile', 'mobiles', 'mobilesdirect', 'mobilesvary', 'mobileupd8', 'mobno', 'moby', 'mode', 'model', 'module', 'modules', 'molested', 'mon', 'mon.l8rs.x', 'monday', 'money', 'monkeespeople', 'monkeyaround', 'mono', 'month', 'months', 'moon', 'more', 'morefrmmob', 'morn', 'morning', 'most', 'motorola', 'mountain', 'movie', 'mp3', 'mr', 'mr.', 'mre', 'mrt', 'msg', 'msg+ticket', 'msgrcvd18+', 'msgs', 'msn', 'mt', 'mtalk', 'mth', 'mths', 'mu', 'much', 'much.i', 'muchxxlove', 'mum', 'mumhas', 'mums', 'munsters', 'mus', 'mushy', 'music', 'must', 'mustprovide', 'muz', 'my', 'mycalls', 'mylife', 'myparents', 'mys', 'myself', 'mystery', 'n', \"n't\", 'na', 'nah', 'nails', 'name', 'name1', 'name2', 'names', 'nap', 'nasdaq', 'natalja', 'national', 'naughty', 'nb', 'nd', 'ne', 'near', 'nearer', 'nearly', 'ned', 'need', 'needs', 'net', 'netcollex', 'nething', 'network', 'networks', 'neva', 'nevamind', 'never', 'new', 'neway', 'newest', 'newquay-send', 'news', 'newspapers', 'next', 'nhs', 'nic', 'nice', 'nice.', 'nichols', 'nicky', 'night', 'nights', 'ninish', 'nit', 'nite', 'nite+2', 'nitw', 'no', 'no-440', 'no-910', 'no.1', 'no1', 'no:81151', 'no:83355', 'noe', 'noisy.', 'noi\\x92m', 'nok', 'nokia', 'nokia/150p', 'nokia6600', 'nokia6650', 'nokias', 'noline', 'non', 'none', 'nookii', 'nope', 'norcorp', 'norm', 'norm150p/tone', 'normal', 'normally', 'not', 'not.', 'notes', 'nothin', 'nothing', 'notice', 'notxt.co.uk', 'november', 'now', 'now.', 'now1', 'nowhere', 'nt', 'ntt', 'ntwk', 'nuclear', 'num', 'num.', 'number', 'number-so', 'numbers', 'nursery', 'nus', 'nusstu', 'nuther', 'nvm', 'nxt', 'ny-usa', 'nydc', 'nyt', 'nytho', 'nìte', 'o2', 'o2.co.uk/games', 'o2fwd', 'objection', 'of', 'off', 'offdam', 'offer', 'offers', 'office', 'official', 'ofsi', 'often', 'of£2000', 'oh', 'oic', 'oja', 'ok', 'ok.', 'okay', 'okden', 'okie', 'okies', 'okmail', 'old', 'oli', 'on', 'one', 'one.', 'oni', 'oni.', 'online', 'online.', 'only', 'only.', 'onlyfound', 'onto', 'onwards', 'oops', 'open', 'openin', 'operator', 'opinion', 'opps', 'opt', 'opt-out', 'option', 'optout', 'or', 'or2stoptxt', 'orange', 'oranges', 'orc', 'orchard', 'orchard.', 'order', 'oredi', 'orh', 'orig', 'original', 'ortxt', 'oso', 'oso.', 'other', 'otherwise', 'ou', 'our', 'ourbacks', 'out', 'out.', 'outfor', 'outl8r', 'outside', 'outside.', 'outsomewhere', 'over', 'over.', 'overdose', 'own', 'oyster', 'oz', 'p', 'p.s', 'package.', 'packs', 'page', 'pages', 'pai', 'painting', 'pants.', 'paper', 'papers', 'paragon', 'paragraphs', 'parco', 'parents', 'paris', 'paris.free', 'park', 'park.6ph', 'parkin', 'part', 'partner', 'parts', 'party', 'pass', 'passport', 'password', 'past', 'paul', 'pay', 'payed2day', 'payoh', 'pdate_now', 'peach', 'pei', 'pence', 'per', 'perfume', 'peril', 'person', 'personal', 'personally', 'pete', 'petexxx', 'petey', 'petrol', 'pg', 'phoenix', 'phone', 'phone.', 'phoned', 'phones', 'phony', 'photo', 'photos', 'php', 'physics', 'piah', 'pic', 'pick', 'picked', 'picking', 'pics', 'pierre', 'pig', 'piggy', 'pilates', 'pimples', 'pin', 'piss', 'pissed', 'pix', 'place', 'plaid', 'plan', 'planning', 'play', 'played', 'player', 'player.', 'plaza', 'please', 'pleased', 'pleassssssseeeeee', 'pls', 'plumbing', 'plus', 'pm', 'pmt', 'po', 'po19', 'pobox', 'pobox1', 'pobox12n146tf15', 'pobox334', 'pobox36504w45wq', 'pobox45w2tg150p', 'pobox75ldns7', 'pobox84', 'poboxox36504w45wq', 'pocay', 'pocketbabe.co.uk', 'pocy', 'pod', 'point', 'points', 'polo', 'poly', 'poly/200p', 'polyh', 'polyph', 'polyphonic', 'polys', 'poor', 'popcorn', 'porridge', 'port', 'portege', 'portions', 'post', 'postcard', 'postcode', 'potter', 'pouch', 'pound', 'pounds', 'power', 'ppl', 'pple', 'ppm', 'ppm150', 'pract', 'practical', 'practice', 'predict', 'prefer', 'premier', 'premier.', 'prepare.', 'prepared', 'prepayment', 'preschoolco-ordinator', 'present', 'presents', 'press', 'pretty', 'previous', 'previously', 'price', 'prince', 'princes', 'printing', 'privacy', 'private', 'prize', 'prize.to', 'prizes', 'pro', 'prob', 'probably', 'problem', 'problems', 'probpop', 'probs', 'probthat', 'profit', 'project', 'project.', 'promise', 'promo', 'prompts', 'prone', 'properly', 'pros', 'proze', 'ps', 'psxtra', 'pt2', 'pthis', 'pub', 'pump', 'purchase', 'purpose', 'push', 'put', 'puttin', 'px3748', 'p£3.99', 'q', 'qet', 'qi', 'qing', 'quality', 'question', 'questions', 'quickly', 'quit', 'quite', 'quiteamuzing', 'quiz', 'quiz.win', 'quoting', 'r', 'racal', 'racing', 'rain', 'raining', 'rally', 'random', 'randomly', 'rang', 'rate', 'rates', 'rcvd', 'rd', 're', 'reach', 'reached', 'reaching', 'reaction', 'read', 'readers', 'ready', 'real', 'real.', 'realise', 'reality', 'really', 'reallyneed', 'realy', 'rebel', 'recd', 'receipt', 'receive', 'receivea', 'receiving', 'recent', 'recently', 'records', 'recreation', 'red', 'redeemable', 'ree', 'reference', 'references', 'referin', 'refunded.this', 'refused', 'reg', 'regarding', 'register', 'registered', 'regret', 'relaxing', 'rem', 'remb', 'remember', 'remembered', 'reminder', 'remixed', 'remove', 'remove.', 'removed', 'rental', 'rentl', 'rentl.', 'repeat', 'repeating', 'repent', 'replied', 'reply', 'reply-', 'replying', 'report', 'report.', 'representative', 'reservations', 'response', 'rest', 'restrictions', 'results', 'return', 'reveal', 'revealed', 'review', 'revision', 'reward', 'rgent', 'rice', 'rich', 'right', 'ring', 'rings', 'ringtone', 'ringtone-get', 'ringtoneking.co.uk', 'ringtones', 'rise', 'rite', 'road', 'roads', 'roast', 'robinson', 'rock', 'rodger', 'romantic', 'ron', 'room', 'room.', 'ros', 'roses', 'route', 'row', 'row/w1j6hl', 'row/w1jhl', 'rows', 'rply', 'rt-king', 'rude', 'rudi', 'rumbling', 'run', 'rush', 'rv', 'rvx', 's', 's3xy', 's89', 'sad', 'sad.', 'sae', 'safe', 'safety', 'said', 'sake', 'sale.', 'salesman', 'sall', 'salon', 'sam', 'same', 'sao', 'sar', 'sara', 'sary', 'sashimi', 'sat', 'sat.love', 'satsgettin', 'satthen', 'saturday', 'saucy', 'sausage', 'savamob', 'save', 'saw', 'say', 'sayhey', 'saying', 'sc', 'scared', 'scary', 'scenery', 'sch', 'sch.', 'schedule', 'school', 'science', 'scold', 'scoring', 'scotland', 'scotsman', 'scouse', 'sdryb8i', 'se', 'search', 'season', 'second', 'secret', 'secretly', 'secs', 'sections', 'see', 'seeds', 'seeing', 'seemed', 'seen', 'seh', 'selected', 'selection', 'self', 'selfindependence', 'selfish', 'selling', 'sells', 'sem', 'send', 'sender', 'sending', 'sends', 'senrd-dnot', 'sense', 'sent', 'sentence', 'sept', 'serena', 'series', 'serious', 'service', 'services', 'set', 'settings', 'settle', 'sex', 'sextextuk.com', 'sexy', 'sez', 'shag', 'shagged', 'shall', 'shame', 'shanghai', 'shant', 'shb', 'shd', 'she', 'sheet', 'shexy', 'shirt', 'shit', 'shit.justfound', 'shite', 'shitin', 'shitinnit', 'shld', 'shldxxxx', 'shock', 'shoes', 'shop', 'shoppin', 'shopping', 'short', 'short.', 'shortcode', 'shorter', 'shorts', 'should', 'shove', 'show', 'shows', 'shracomorsglsuplt', 'shu', 'shud', 'shudvetold', 'shuhui', 'shuhui.', 'shun', 'si', 'si.como', 'sian', 'sic', 'sick', 'side', 'sign', 'signing', 'silver', 'sim', 'simply', 'since', 'sing', 'singapore', 'singles', 'sipix', 'sir', 'sis', 'sitting', 'six', 'size', 'sk3', 'sk38xh', 'sk38xh.', 'skilgme', 'skillgame', 'skillgame,1winaweek', 'skip', 'skirt', 'sky', 'sleep', 'sleepin', 'sleeping', 'slept', 'slightly', 'slots', 'slow', 'small', 'smaller', 'smart', 'smashed', 'smidgin', 'smith-switch', 'sms', 'sms-08718727870', 'smsing', 'smth', 'smth.', 'sn', 'snoring.they', 'so', 'soc', 'social', 'sofa', 'soiree', 'sol', 'some', 'somebody', 'someone', 'someonone', 'somethin', 'something', 'sometime', 'song', 'sony', 'sonyericsson', 'soo', 'soon', 'soon.', 'soon.c', 'soon.xxx', 'soonlots', 'sorry', 'sort', 'sorted', 'sorts', 'sound', 'sounding', 'sounds', 'soundtrack', 'sound\\x92s', 'soz', 'sp', 'space', 'spageddies', 'spain', 'spam', 'spanish', 'sparkling', 'speak', 'special', 'special-call', 'speciale', 'specialise', 'specially', 'specify', 'specs', 'spell', 'spend', 'spent', 'spinout', 'spk', 'splashmobile', 'spoken', 'spook', 'sport', 'sports', 'sportsx', 'spouse', 'sppok', 'spree', 'spun-out', 'spys', 'sq825', 'squid', 'st', 'staff.science.nus.edu.sg/~phyhcmk/teaching/pc1323', 'stamped', 'standard', 'staring', 'start', 'started', 'starting', 'starts', 'starwars3', 'statement', 'station', 'stay', 'stayin', 'staying', 'std', 'stdtxtrate', 'steam', 'steamboat', 'step', 'stereophonics', 'steve', 'sth', 'stil', 'still', 'stock', 'stockport', 'stomach', 'stop', 'stop.', 'stops', 'stoptxtstop£1.50/week', 'store', 'str', 'str8', 'stranger', 'street', 'stretch', 'strike', 'strip', 'stripes', 'strokes', 'strong-buy', 'stuck', 'student', 'studentfinancial', 'students', 'studio', 'study', 'studying', 'stuff', 'stupid', 'styling', 'sub', 'submitting', 'subpoly', 'subs', 'subscriber', 'subscribers', 'subscrition', 'suddenly', 'sue', 'sugardad', 'suggest', 'suite', 'sullivan', 'sum', 'summer', 'sumthin', 'sun', 'sunday', 'sunshine', 'suntec', 'supervisor', 'supose', 'supply', 'support', 'suppose', 'supposed', 'suprman', 'sure', 'surf', 'surfing', 'surprise', 'surprised', 'survey', 'suzy', 'sw73ss', 'swan', 'swat', 'swatch', 'sweater', 'sweet', 'switch', 'syd', 'symbol', 't', 't-mobile', 't-shirt.', 't.', 't.b', 'ta', 'tablets', 'tahan', 'tai', 'taka', 'take', 'taken', 'takes', 'takin', 'taking', 'talk', 'talkbut', 'talked', 'talkin', 'talking', 'talks', 'tape', 'tariffs', 'tasts', 'tat', 'tau', 'tb', 'tc', 'tc-llc', 'tcr/w1', 'tcs', 'tea', 'teacher', 'team', 'tech', 'teeth', 'tel', 'telephone', 'tell', 'telling', 'tellmiss', 'tells', 'tenants', 'tenerife', 'terminated.we', 'terms', 'test', 'testing', 'tex', 'texd', 'text', 'textbook', 'textbuddy', 'texting', 'textoperator', 'texts', 'th', 'than', 'thank', 'thanks', 'thanx', 'thanx.', 'thanx.xx', 'thanx4', 'thasa', 'that', 'thatmum', 'thats', 'that\\x92s', 'that\\x92scool', 'the', 'theacusations', 'thecd', 'thekingshead', 'them', 'themob', 'then', 'then.', 'theory', 'theplace', 'thepub', 'there', 'there.', 'there.xx', 'these', 'thew/end', 'they', 'thgt', 'thin', 'thing', 'things', 'things.', 'think', 'thinkin', 'thinking', 'thinks', 'this', 'thk', 'thkin', 'tho', 'those', 'thou', 'though', 'thought', 'thout', 'thurs', 'thursday', 'tickets', 'tight', 'til', 'till', 'tim', 'time', 'time-hope', 'time.', 'times', 'timin', 'timing', 'timings', 'tips', 'tired', 'tiring', 'tis', 'title', 'titles', 'tix', 'tkts', 'tmr', 'tnc', 'tncs', 'to', 'toa', 'tobed', 'tocall.shall', 'toclaim', 'today', 'today.', 'todays', 'todo', 'tog', 'together', 'tok', 'toking', 'tol', 'told', 'tome', 'tomorrow', 'tomorrow.', 'tomorrow.call', 'tone', 'tones', 'tones2u', 'tonight', 'tonight.', 'tonights', 'tonite', 'tonsolitusaswell', 'too', 'too.', 'took', 'toot', 'top', 'topic', 'toplay', 'toshiba', 'tot', 'total', 'touch', 'touched', 'tour', 'town', 'town.dontmatter', 'tp', 'track', 'tram', 'transferred', 'trav', 'travel', 'travelling', 'treat', 'trends', 'tried', 'trip', 'trouble', 'true', 'truly', 'truth', 'try', 'tryin', 'trying', 'ts', 'tsandcs', 'tscs', 'tscs08714740323', 'tsunami', 'tt', 'tue', 'tues', 'tuition', 'tulip', 'turning', 'tv', 'twilight', 'tx', 'txt', 'txtauction', 'txtin', 'txting', 'txtno', 'txts', 'txtstar', 'type', 'typical', 'tyrone', 'u', 'u-find', 'u.', 'u.call', 'u2moro', 'u4', 'uawake', 'ubi', 'uin', 'uk', 'ukp', 'uks', 'um', 'unbreakable', 'unclaimed', 'understand', 'uni', 'unicef', 'uniform', 'unique', 'unkempt', 'unless', 'unlimited', 'unredeemed', 'unsub', 'unsubscribe', 'untamed', 'until', 'up', 'up+not', 'up.', 'up.yeh', 'up4', 'upd8', 'updat', 'update', 'update_now', 'upgrade', 'upto', 'ur', 'ure', 'urfeeling', 'urgent', 'urgoin', 'urgran', 'url', 'urmom.i', 'urself', 'us', 'use', 'used', 'user', 'usher', 'using', 'usual', 'uup', 'uve', 'uwana', 'uwant', 'v', 'v.pist', 'v.tired', 'vale', 'valentine', 'valentines', 'valid', 'valid12hrs', 'valued', 'vary', 'vco', 've', 'verify', 'version', 'very', 'vewy', 'via', 'vic', 'video', 'videochat', 'videophones', 'videosound', 'videosounds+2', 'vill', 'villa', 'village', 'violet', 'vip', 'virgin', 'visit', 'voda', 'vodafone', 'voicemail', 'voucher', 'vouchers', 'vu', 'w', 'w111wx', 'w14rg', 'w1a', 'w1j', 'w4', 'w45wq', 'wa', 'wa14', 'wad', 'wah', 'wait', 'waitin', 'waiting', 'wake', 'wales', 'waliking', 'walk', 'walked', 'walking', 'wall', 'walsall', 'wamma', 'wan', 'wan2', 'wana', 'wannatell', 'want', 'wanted', 'wanting', 'wants', 'wap', 'warner', 'warranty', 'was', 'wasnt', 'wasn\\x92t', 'waste', 'wasted', 'wat', 'wat.', 'watch', 'watched', 'watches', 'watchin', 'watching', 'way', 'wc1n3xx', 'we', 'wear', 'wearing', 'website', 'wed', 'wedlunch', 'week', 'week+', 'week-stop', 'week.', 'weekdays', 'weekend', 'weekends', 'weekly', 'weeks', 'weigh', 'weight', 'weight.', 'weirdest', 'weirdo', 'weiyi', 'welcome', 'well', 'wellda', 'wen', 'went', 'wenwecan', 'were', 'werebored', 'werethe', 'west', 'western', 'westlife', 'wet.', 'wewa', 'we\\x92ve', 'whassup', 'what', 'whats', 'wheellock', 'when', 'where', 'whereare', 'whether', 'which', 'while', 'whilltake', 'who', 'whole', 'whose', 'why', 'wicklow', 'wid', 'wif', 'wil', 'wildest', 'will', 'willing', 'win', 'win150ppmx3age16', 'wine', 'winner', 'winnersclub', 'wisdom', 'wish', 'with', 'within', 'without', 'wiv', 'wk', 'wkend', 'wkent/150p16+', 'wkg', 'wkly', 'wo', 'wocay', 'woke', 'woken', 'woman', 'won', 'wonder', 'wondering', 'wont', 'word', 'work', 'workand', 'workin', 'working', 'working.', 'workout', 'works', 'world', 'worlds', 'worried', 'worry', 'worry.', 'worry.c', 'worth', 'wot', 'wotu', 'would', 'wow', 'wrc', 'write', 'wrk', 'wrk.i', 'wrkin', 'wrking', 'wrks', 'wrld', 'wrong', 'wrongly', 'wtc', 'wuld', 'wuldnt', 'wun', 'www.07781482378.com', 'www.100percent-real.com', 'www.4-tc.biz', 'www.areyouunique.co.uk', 'www.comuk.net', 'www.dbuk.net', 'www.getzed.co.uk', 'www.idew.com', 'www.ldew.com', 'www.ldew.com.subs16+1win150ppmx3', 'www.ldew.com1win150ppmx3age16', 'www.ldew.com1win150ppmx3age16subscription', 'www.movietrivia.tv', 'www.orange.co.uk/ow', 'www.ringtoneking.co.uk', 'www.ringtones.co.uk', 'www.rtf.sphosting.com', 'www.shortbreaks.org.uk', 'www.sms.ac/u/hmmross', 'www.sms.ac/u/nat27081980', 'www.smsco.net', 'www.t-c.biz', 'www.tkls.com', 'www.txt-2-shop.com', 'www.win-82050.co.uk', 'x', \"x'mas.\", 'x.', 'x49', 'xchat', 'xclusive', 'xin', 'xmas', 'xt', 'xuhui', 'xx', 'xxuk', 'xxx', 'xxx.', 'xxxx', 'xxxxx', 'xxxxxxx', 'xxxxxxxx', 'xxxxxxxxxxxxxx', 'xy', 'y', 'y87', 'ya', 'yah', 'yahoo', 'yam', 'yan', 'yar', 'yaxx', 'yaxxx', 'yck', 'yeah', 'year', 'years', 'yeh', 'yep', 'yer', 'yes', 'yes-440', 'yes-910', 'yest', 'yesterday', 'yet', 'yet.', 'yhl', 'yifeng', 'yijue', 'yo', 'yoga', 'yogasana', 'yor', 'you', 'youdoing', 'youphone', 'your', 'youre', 'yourjob', 'yours', 'yourself', 'youwanna', 'you\\x92re', 'yr', 'yrs', 'yun', 'yunny', 'yup', 'yupz', 'zed', 'zhong', 'zoe', 'zogtorius', 'zoom', 'zouk', '\\x91morrow', '\\x91rents', '\\x93harry', '\\x93it', '\\x96', '£1', '£1,500', '£1.50', '£1.50/msg', '£1.50/msg.', '£1.50perweeksub.', '£1.50pm', '£1.50pmmorefrommobile2bremoved-mobypobox734ls27yf', '£10', '£10,000', '£100', '£100,000', '£1000', '£1000call', '£125', '£1250', '£1450', '£150', '£1500', '£2,000', '£2.50', '£200', '£2000', '£250', '£250k', '£3', '£3.00', '£3/wk', '£33:50', '£350', '£400', '£48', '£500', '£5000', '£5000.00', '£50award', '£75,000', '£750', '£800', '£900', 'é', 'ü', 'ü.']\n"
          ]
        }
      ]
    },
    {
      "cell_type": "code",
      "source": [
        "import collections\n",
        "\n",
        "# Crea la matriz tdm\n",
        "def term_document_matrix(documents, voc):\n",
        "  # Matriz de términos documentos\n",
        "  matriz = np.zeros((len(voc), len(documents)))\n",
        "\n",
        "  # Contar las ocurrencias de cada término en cada documento\n",
        "  for i, documento in enumerate(documents):\n",
        "    contador = collections.Counter(documento)\n",
        "    for término, ocurrencia in contador.items():\n",
        "      matriz[voc.index(término)][i] = ocurrencia\n",
        "\n",
        "  # Dividir la ocurrencia de cada término en cada documento por la suma de todas las ocurrencias\n",
        "  for i in range(len(matriz)):\n",
        "    suma = np.sum(matriz[i])\n",
        "    if suma != 0:\n",
        "        matriz[i] /= suma\n",
        "\n",
        "  return matriz\n",
        "\n",
        "tdm = term_document_matrix(x_train, vocabulary)"
      ],
      "metadata": {
        "id": "ahosPJMk0lzv"
      },
      "execution_count": 4,
      "outputs": []
    },
    {
      "cell_type": "code",
      "source": [
        "import numpy as np\n",
        "from scipy.special import expit\n",
        "\n",
        "#Asignamos hiper-parámetros\n",
        "epochs = 10000\n",
        "alfa = 10\n",
        "\n",
        "# Inicializamos w\n",
        "w = np.zeros((len(tdm),1))\n",
        "\n",
        "# Bucle de entrenamiento\n",
        "for epoch in range(epochs):\n",
        "\n",
        "  # Calculamos la predicción\n",
        "  y_pred =  expit(-np.dot(w.T, tdm))\n",
        "\n",
        "  # Calculamos el error\n",
        "  val_1 = y_train\n",
        "  val_2 = np.log1p(y_pred)\n",
        "  val_3 = 1-y_train\n",
        "  val_4 = np.log1p(1-y_pred)\n",
        "  val_5 = np.multiply(- val_1, val_2)\n",
        "  val_6 = np.multiply(val_3, val_4)\n",
        "  val_7 = np.subtract(val_5, val_6)\n",
        "  error = np.mean(val_7)\n",
        "\n",
        "  if epoch % (epochs/10) == 0:\n",
        "      print(error)\n",
        "\n",
        "  # Actualizamos los pesos\n",
        "  w -= (alfa * np.dot(np.subtract(y_pred, y_train), tdm.T)).T\n"
      ],
      "metadata": {
        "colab": {
          "base_uri": "https://localhost:8080/"
        },
        "id": "w3nNdMpWFFQm",
        "outputId": "00f94c2c-fa51-46c3-9f6e-288ceb6edb62"
      },
      "execution_count": 5,
      "outputs": [
        {
          "output_type": "stream",
          "name": "stdout",
          "text": [
            "-0.40546510810816455\n",
            "-0.00196358974662874\n",
            "-0.00196358974662874\n",
            "-0.00196358974662874\n",
            "-0.00196358974662874\n",
            "-0.00196358974662874\n",
            "-0.00196358974662874\n",
            "-0.00196358974662874\n",
            "-0.00196358974662874\n",
            "-0.00196358974662874\n"
          ]
        }
      ]
    },
    {
      "cell_type": "code",
      "source": [
        "\n",
        "tdm_f = term_document_matrix(x_test, vocabulary)\n",
        "\n",
        "# Calculamos la predicción\n",
        "y_pred_f =  expit(-np.dot(w.T, tdm_f))\n",
        "y_pred_f = np.transpose(y_pred_f)\n",
        "\n",
        "pred = np.zeros(len(y_pred_f))\n",
        "for i, y_f in enumerate(y_pred_f):\n",
        "  if y_f <= 0.5:\n",
        "     pred[i]= 1\n",
        "  else:\n",
        "    pred[i] = 0"
      ],
      "metadata": {
        "id": "OAtjZl5O2UDi"
      },
      "execution_count": 6,
      "outputs": []
    },
    {
      "cell_type": "code",
      "source": [
        "# Matriz de confusión\n",
        "matriz_confusion = np.zeros((2, 2))\n",
        "\n",
        "# Contar las coincidencias\n",
        "for prediccion, etiqueta_real in zip(pred, y_test[0]):\n",
        "  matriz_confusion[int(prediccion)][int(etiqueta_real)] += 1\n",
        "\n",
        "# Imprimir la matriz de confusión\n",
        "print(matriz_confusion)\n",
        "\n",
        "# Calcula las métricas\n",
        "precision = matriz_confusion[0, 0] / (matriz_confusion[0, 0] + matriz_confusion[1, 0])\n",
        "specificity = matriz_confusion[1, 1] / (matriz_confusion[1, 1] + matriz_confusion[0, 1])\n",
        "recall = matriz_confusion[0, 0] / (matriz_confusion[0, 0] + matriz_confusion[0, 1])\n",
        "fallout = matriz_confusion[1, 0] / (matriz_confusion[1, 0] + matriz_confusion[1, 1])\n",
        "accuracy = (matriz_confusion[0, 0] + matriz_confusion[1, 1]) / (matriz_confusion.sum())\n",
        "\n",
        "# Imprime las métricas\n",
        "print(f\"Precisión: {precision}\")\n",
        "print(f\"Especificidad: {specificity}\")\n",
        "print(f\"Recall: {recall}\")\n",
        "print(f\"Fallout: {fallout}\")\n",
        "print(f\"Accuracy: {accuracy}\")"
      ],
      "metadata": {
        "colab": {
          "base_uri": "https://localhost:8080/"
        },
        "id": "cd6xIZ6L27Ql",
        "outputId": "c3c56a03-44ac-4312-98bd-c37e2a1cc4d5"
      },
      "execution_count": 7,
      "outputs": [
        {
          "output_type": "stream",
          "name": "stdout",
          "text": [
            "[[191.   3.]\n",
            " [  8.  63.]]\n",
            "Precisión: 0.9597989949748744\n",
            "Especificidad: 0.9545454545454546\n",
            "Recall: 0.9845360824742269\n",
            "Fallout: 0.11267605633802817\n",
            "Accuracy: 0.9584905660377359\n"
          ]
        }
      ]
    }
  ]
}